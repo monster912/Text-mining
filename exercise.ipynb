{
 "cells": [
  {
   "cell_type": "markdown",
   "metadata": {},
   "source": [
    "# 연습 문제: Yelp 리뷰 별점 예측"
   ]
  },
  {
   "cell_type": "markdown",
   "metadata": {},
   "source": [
    "## 개요\n",
    "\n",
    "데이터 출처: [Yelp Business Rating Prediction](https://www.kaggle.com/c/yelp-recsys-2013).\n",
    "\n",
    "**데이터 설명:**\n",
    "\n",
    "- 데이터셋은 **`./data/yelp.csv`** 에 저장되어 있습니다.\n",
    "- 각 행은 사용자가 특정 음식점에 대해 입력한 리뷰입니다.\n",
    "    - **stars** 열은 사용자가 남긴 별점을 나타냅니다.\n",
    "    - **text** 열은 리뷰 텍스트를 나타냅니다.\n",
    "\n",
    "**목표:** 리뷰 텍스트를 자질로 활용하여 별점을 예측하는 것.\n",
    "\n",
    "**팁:** 각 단계를 수행할 때마다 결과값의 `shape`을 확인해보시는 걸 권장합니다. 결과가 의도한 대로 나왔는지를 체크하기 위함입니다."
   ]
  },
  {
   "cell_type": "markdown",
   "metadata": {},
   "source": [
    "## Task 1\n",
    "\n",
    "**`yelp.csv`** 를 pandas DataFrame으로 로드한 후 특성 파악해보기 (3가지 이상)\n",
    "- 예: 총 개수, shape, 예시"
   ]
  },
  {
   "cell_type": "markdown",
   "metadata": {},
   "source": [
    "## Task 2\n",
    "\n",
    "**5-star** 와 **1-star** 인 리뷰'만'을 포함하는 DataFrame 새로 생성하기 (필터링). 태스크를 binary classification으로 만들기 위함.\n",
    "\n",
    "- **힌트:** [How do I apply multiple filter criteria to a pandas DataFrame?](http://nbviewer.jupyter.org/github/justmarkham/pandas-videos/blob/master/pandas.ipynb#9.-How-do-I-apply-multiple-filter-criteria-to-a-pandas-DataFrame%3F-%28video%29)."
   ]
  },
  {
   "cell_type": "markdown",
   "metadata": {},
   "source": [
    "## Task 3\n",
    "\n",
    "Task 2에서 생성한 DataFrame으로부터 X와 y를 생성한 후, 각각을 train/test 셋으로 분리해주세요.\n",
    "- X는 text 열만을, y는 stars 열만을 포함해야 함.\n",
    "- **힌트:** X는 DataFrame이 아니라 Series 타입이어야 함. 그래야 `CountVectorizer`의 입력값으로 활용할 수 있음."
   ]
  },
  {
   "cell_type": "markdown",
   "metadata": {},
   "source": [
    "## Task 4\n",
    "\n",
    "`CountVectorizer`를 활용하여 X_train, X_test로부터 **문서-단어 행렬**을 생성해주세요."
   ]
  },
  {
   "cell_type": "markdown",
   "metadata": {},
   "source": [
    "## Task 5\n",
    "\n",
    "Multinomial Naive Bayes 모델을 사용하여 다음 작업을 수행하시오.\n",
    "1. 별점 예측하는 모델 훈련 및 예측 수행\n",
    "1. 모델의 정확도 (accuracy) 계산\n",
    "1. 모델의 오차 행렬 (confusion matrix) 출력\n",
    "\n",
    "\n",
    "**힌트:** [Evaluating a classification model](https://github.com/justmarkham/scikit-learn-videos/blob/master/09_classification_metrics.ipynb)에서 '분류 정확도' 및 '오차 행렬'을 어떻게 해석해야 하는지 설명."
   ]
  },
  {
   "cell_type": "markdown",
   "metadata": {},
   "source": [
    "## Task 6\n",
    "\n",
    "단순히 가장 많이 등장하는 클래스(별점)으로 예측했을 시 달성 가능한 분류 정확도(i.e. null accuracy)를 계산하세요.\n",
    "\n",
    "- **힌트:** [Evaluating a classification model](https://github.com/justmarkham/scikit-learn-videos/blob/master/09_classification_metrics.ipynb)에서 null accuracy를 계산하는 두가지 방법을 소개하고 있음. 다만 이번 태스크에는 둘 중 하나만 적용 가능."
   ]
  },
  {
   "cell_type": "markdown",
   "metadata": {},
   "source": [
    "## Task 7\n",
    "\n",
    "Naive Bayes 모델의 결과에서 두 가지 오류 케이스인 **false positive** 와 **false negative** 샘플들을 살펴보고, 왜 모델이 분류에 실패했을지에 대한 해석을 달아주세요.\n",
    "\n",
    "- **힌트:** [Evaluating a classification model](https://github.com/justmarkham/scikit-learn-videos/blob/master/09_classification_metrics.ipynb)에서 false positive/negative에 대한 설명을 확인할 수 있음."
   ]
  },
  {
   "cell_type": "markdown",
   "metadata": {},
   "source": [
    "## Task 8\n",
    "\n",
    "리뷰가 **5-star 리뷰**와 **1-star 리뷰**일 확률을 가장 많이 높이는 top 10 단어를 각각 출력하세요.\n",
    "- 5-star: [...]\n",
    "- 1-star: [...]\n",
    "\n",
    "\n",
    "**힌트:** NB 모델의 `feature_count_`와 `class_count_` 속성을 활용."
   ]
  },
  {
   "cell_type": "markdown",
   "metadata": {},
   "source": [
    "## Task 9 (어려움)\n",
    "\n",
    "- 지금까지는 5-star 혹은 1-star인 두 경우만을 분류하는 **binary classification** 문제를 풀었음. \n",
    "- 위 과정을 적절히 변경하여 모든 별점을 분류할 수 있는 NB 모델을 훈련 및 평가해주세요.\n",
    "    - **5-class classification problem**\n",
    "\n",
    "필요한 절차:\n",
    "\n",
    "- Task 1에서 생성한 원본 DataFrame으로 X, y 생성 (y는 5개의 클래스를 가짐)\n",
    "- X, y를 train/test 셋으로 분리\n",
    "- CountVectorizer로 문서-단어 행렬 생성.\n",
    "- Multinomial Naive Bayes 모델의 test 셋 성능 평가.\n",
    "- 모델의 Test 셋 성능을 null accuracy와 비교해보고 결과에 대한 해석 달기\n",
    "- 모델의 오차 행렬을 출력해보고 해석 달기 (This [Stack Overflow answer](http://stackoverflow.com/a/30748053/1636598) 에서 multi-class confusion matrix를 어떻게 해석해야 하는지 설명하고 있음.)\n",
    "- 모델의 [classification report](http://scikit-learn.org/stable/modules/model_evaluation.html#classification-report)를 출력하고 해석 달기."
   ]
  },
  {
   "cell_type": "markdown",
   "metadata": {},
   "source": [
    "---\n",
    "\n",
    "# 제출 가이드라인\n",
    "- 본 노트북을 작성하신 후, 오늘 자정까지 임도연 조교 ([dyklim@gmail.com](mailto:dylim@kaist.ac.kr))에게 발송해주세요.\n",
    "- 10점 만점에 미제출시 0점, 기본 문제만 풀었을 시 최대 8점입니다.\n",
    "  - 제출은 꼭 해주세요. 정답이 완벽하지 않더라도 고민해주신 흔적이 있다면 괜찮습니다."
   ]
  }
 ],
 "metadata": {
  "kernelspec": {
   "display_name": "Python 3",
   "language": "python",
   "name": "python3"
  },
  "language_info": {
   "codemirror_mode": {
    "name": "ipython",
    "version": 3
   },
   "file_extension": ".py",
   "mimetype": "text/x-python",
   "name": "python",
   "nbconvert_exporter": "python",
   "pygments_lexer": "ipython3",
   "version": "3.7.3"
  }
 },
 "nbformat": 4,
 "nbformat_minor": 1
}
